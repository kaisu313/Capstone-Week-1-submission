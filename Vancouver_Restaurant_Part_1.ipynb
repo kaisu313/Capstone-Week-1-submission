{
  "nbformat": 4,
  "nbformat_minor": 0,
  "metadata": {
    "kernelspec": {
      "display_name": "Python 3",
      "language": "python",
      "name": "python3"
    },
    "language_info": {
      "codemirror_mode": {
        "name": "ipython",
        "version": 3
      },
      "file_extension": ".py",
      "mimetype": "text/x-python",
      "name": "python",
      "nbconvert_exporter": "python",
      "pygments_lexer": "ipython3",
      "version": "3.6.5"
    },
    "colab": {
      "name": "Vancouver Restaurant Part 1",
      "provenance": [],
      "include_colab_link": true
    }
  },
  "cells": [
    {
      "cell_type": "markdown",
      "metadata": {
        "id": "view-in-github",
        "colab_type": "text"
      },
      "source": [
        "<a href=\"https://colab.research.google.com/github/kaisu313/Capstone-Week-1-submission/blob/master/Vancouver_Restaurant_Part_1.ipynb\" target=\"_parent\"><img src=\"https://colab.research.google.com/assets/colab-badge.svg\" alt=\"Open In Colab\"/></a>"
      ]
    },
    {
      "cell_type": "markdown",
      "metadata": {
        "id": "sLm15898EH49",
        "colab_type": "text"
      },
      "source": [
        "## **PROBLEM/BUSINESS CASE:  \n",
        "A friend just immigrated from Taiwan and would like to setup a new dessert shop in downtown vancouver where he lives.  He currently has restaurants in Taiwan so its really only a matter of picking the right place for his first shop in Vancouver.  \n",
        "\n",
        "After months of searching, he has narrowed down to downtown vancouver South West vs North East area.  Both areas have similar demographics so now it is up to which area will have less competition in that space.  The target audience of his store will be general public living and working in downtown vancouver.  It is important that this business thrives as it is his first flagship shop in Canada.  Future prospects for further expansion will hinge on whether the store is successful.\n",
        "\n",
        "## **DATA DESCRIPTION\n",
        "Based on the above criteria, and tO help him find which area has less competition, we will use the following data sources:\n",
        "\n",
        "1) Vancouver BC's location coordinates through GEONAMES\n",
        " https://www.geonames.org/postal-codes/CA/BC/british-columbia.html\n",
        " \n",
        " We will scrub this page and put the relevant datatable into a dataframe.  \n",
        " This data is discrete attribute data which consists of place, postal code, name of neighborhood, province and country.  We will use this data's coordinates and location data as an input into Foursquare's API call to explore the neighborhood and venues.  \n",
        "\n",
        "\n",
        " 2)  FourSquare to explore the most common venues in each area\n",
        "\n",
        " We will extract the venues in each area through calling FourSquare's API. This dataset return will contain the type of business, as well as its popularity.  With this attribute data set, we can rank them accordingly to obtain the most commnon venue within the neighborhood.\n",
        "\n",
        "\n",
        " 3)  We will compare locate South West downtown and North East downtown to see which area have less competition (i.e. serving desserts)\n",
        "\n",
        "\n"
      ]
    }
  ]
}